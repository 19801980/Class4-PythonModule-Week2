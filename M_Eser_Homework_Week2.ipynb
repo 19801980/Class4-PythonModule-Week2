{
 "cells": [
  {
   "cell_type": "markdown",
   "metadata": {},
   "source": [
    "# 1 Lucky Numbers"
   ]
  },
  {
   "cell_type": "raw",
   "metadata": {},
   "source": [
    "# Write a programme to generate the lucky numbers from the range(n). These are generated starting with the sequence s=[1,2,...,n]. At the first pass, we remove every second element fromthe sequence, resulting in s2. At the second pass, we remove every third element from the sequence s2, resulting in s3, and we proceed in this way until no elements can be removed. The resulting sequence are the numbers lucky enough to have survived elimination.\n",
    "The following example describes the entire process for n=22:\n",
    "\n",
    "Original sequence: [1, 2, 3, 4, 5, 6, 7, 8, 9, 10, 11, 12, 13, 14, 15, 16, 17, 18, 19, 20, 21, 22]\n",
    "Remove 2nd elements: [1, 3, 5, 7, 9, 11, 13, 15, 17, 19, 21] \n",
    "Remove 3rd elements: [1, 3, 7, 9, 13, 15, 19, 21] \n",
    "Remove 4th elements: [1, 3, 7, 13, 15, 19] \n",
    "Remove 5th elements: [1, 3, 7, 13, 19]\n",
    "We cannot remove every other 6th element as there is no 6th element.\n",
    "Input>>> 22 \n",
    "Output>>> Lucky numbers are [1, 3, 7, 13, 19]"
   ]
  },
  {
   "cell_type": "code",
   "execution_count": null,
   "metadata": {},
   "outputs": [],
   "source": [
    "n = int(input(\"n: \"))\n",
    "numbers = list(range(1,n+1))\n",
    "i=2\n",
    "while i < len(numbers):\n",
    " del numbers[i-1:n:i]\n",
    " i += 1\n",
    " n = max(numbers)\n",
    "else:\n",
    " print(\"The lucky numbers are: {}\".format(numbers))   "
   ]
  },
  {
   "cell_type": "markdown",
   "metadata": {},
   "source": [
    "# 2 Index kaydirma"
   ]
  },
  {
   "cell_type": "raw",
   "metadata": {},
   "source": [
    "Write a program that takes two inputs; one of them is a list and the other is a number, and returns the list obtained by shifting the elements in the list n places to the right (left) when n is positive (negative). Use wrap-around: if an element is shifted beyond the end of the list, then continue to shift starting at the beginning of the list.\n",
    "\n",
    "Example:\n",
    "\n",
    "Inputs>>> [1, 2, 3, 4, 5], 2\n",
    "Output>>> [4, 5, 1, 2, 3] \n",
    "Inputs>>> [1, 2, 3, 4, 5], -2 \n",
    "Output>>> [3, 4, 5, 1, 2]"
   ]
  },
  {
   "cell_type": "code",
   "execution_count": null,
   "metadata": {},
   "outputs": [],
   "source": [
    "lst = list(input(\"Lutfen listenizin elemanlarini sade ve bitisik sekilde giriniz: \"))\n",
    "\n",
    "s = int(input(\"Lutfen listenin ogelerini kaydirmak istediginiz olcu miktarini giriniz: \"))\n",
    "y = len(lst)\n",
    "x = y - s\n",
    "\n",
    "if s > 0:\n",
    "    lst2 = list(lst[x:y])\n",
    "    print(lst2)\n",
    "    del lst[x:y]\n",
    "    lst3= lst2 + lst\n",
    "    print(lst3)\n",
    "elif s < 0:\n",
    "    s = -1 * s\n",
    "    lst2 = list(lst[0:s])\n",
    "    print(lst2)\n",
    "    del lst[0:s]\n",
    "    lst3= lst + lst2\n",
    "    print(lst3)\n",
    "else:\n",
    "    print(\"Lutfen baska bir sayi giriniz: \")\n",
    "    \n",
    "    "
   ]
  },
  {
   "cell_type": "markdown",
   "metadata": {},
   "source": [
    "# 3 Cumledeki harflerin sayisi"
   ]
  },
  {
   "cell_type": "raw",
   "metadata": {},
   "source": [
    "Write a code snippet that inputs a sentence from the user, then uses a dictionary to summarize the number of occurrences of each letter. Ignore case, ignore blanks and assume the user doesnot enter any punctuation. Display a two-column table of the letters and their counts with the letters in sorted order.\n",
    "\n",
    "Example:\n",
    "\n",
    "Input >>> \"This is a sample text with several words This is more sample text with some differentwords\" \n",
    "Output >>> [('a', 4), ('d', 3), ('e', 10), ('f', 2), ('h', 4), ('i', 7), ('l', 3), ('m', 4), ('n', 1), ('o', 4), ('p', 2), ('r', 5), ('s', 10), ('t', 9), ('v', 1), ('w', 4), ('x', 2)] "
   ]
  },
  {
   "cell_type": "code",
   "execution_count": 6,
   "metadata": {},
   "outputs": [
    {
     "name": "stdout",
     "output_type": "stream",
     "text": [
      "Lutfen noktalam isareti kullanmadan bir cumle giriniz: Galiba bu sefer oldu\n",
      "Cumledeki harflerin kullanim sayisi: \n",
      "{'g': 1, 'a': 2, 'l': 2, 'i': 1, 'b': 2, 'u': 2, 's': 1, 'e': 2, 'f': 1, 'r': 1, 'o': 1, 'd': 1}\n"
     ]
    }
   ],
   "source": [
    "b = str(input(\"Lutfen noktalam isareti kullanmadan bir cumle giriniz: \"))\n",
    "\n",
    "b = b.lower()\n",
    "\n",
    "dicti={}\n",
    "\n",
    "for i in b:\n",
    "    x = {i:b.count(i)}\n",
    "    dicti.update(x)\n",
    "    \n",
    "boslukat = dicti.pop(' ')\n",
    "\n",
    "print(\"Cumledeki harflerin kullanim sayisi: \")\n",
    "\n",
    "print(dicti)\n"
   ]
  },
  {
   "cell_type": "markdown",
   "metadata": {},
   "source": [
    "# 4 Unique letters"
   ]
  },
  {
   "cell_type": "raw",
   "metadata": {},
   "source": [
    "Write a program that takes in two words as input and returns a list containing three elements, in the following order:\n",
    "\n",
    "Shared letters between two words.\n",
    "Letters unique to word 1.\n",
    "Letters unique to word 2.\n",
    "Each element of the output should have unique letters, and should be alphabetically sorted. Useset operations. The strings will always be in lowercase and will not contain any punctuation.\n",
    "\n",
    "Example:\n",
    "\n",
    "Input1>>> \"sharp\" \n",
    "Input2>>> \"soap\" \n",
    "Output>>> ['aps', 'hr', 'o']"
   ]
  },
  {
   "cell_type": "code",
   "execution_count": null,
   "metadata": {},
   "outputs": [],
   "source": [
    "a = set(input(\"Lutfen bir kelime yaziniz: \"))\n",
    "b = set(input(\"Lutfen ikinci bir kelime yaziniz: \"))\n",
    "\n",
    "# sorted intersection\n",
    "\n",
    "print(\"Birinci harf kumemiz: {}\".format(a))\n",
    "print(\"Ikinci harf kumemiz: {}\".format(b))\n",
    "\n",
    "c = list(a.intersection(b))\n",
    "c.sort()\n",
    "print(\"Shared letters between two words: {}\".format(c))\n",
    "x = \"\"\n",
    "for k in c:\n",
    "    x += str(k)\n",
    "    x = x.lower()\n",
    "\n",
    "# unique 1\n",
    "d = list(a-b)\n",
    "d.sort()\n",
    "print(\"Letters unique to word 1: {}\".format(d))\n",
    "y = \"\"\n",
    "for m in d:\n",
    "    y += str(m)\n",
    "    y = y.lower()\n",
    "    \n",
    "# unique 2\n",
    "e = list(b-a)\n",
    "e.sort()\n",
    "print(\"Letters unique to word 2: {}\".format(e))\n",
    "z = \"\"\n",
    "for n in e:\n",
    "    z += str(n)\n",
    "    z = z.lower()\n",
    "    \n",
    "print(\"-----Result-----: \")\n",
    "\n",
    "print(\"['{}','{}','{}']\".format(x,y,z))\n"
   ]
  }
 ],
 "metadata": {
  "kernelspec": {
   "display_name": "Python 3",
   "language": "python",
   "name": "python3"
  },
  "language_info": {
   "codemirror_mode": {
    "name": "ipython",
    "version": 3
   },
   "file_extension": ".py",
   "mimetype": "text/x-python",
   "name": "python",
   "nbconvert_exporter": "python",
   "pygments_lexer": "ipython3",
   "version": "3.8.5"
  }
 },
 "nbformat": 4,
 "nbformat_minor": 4
}
